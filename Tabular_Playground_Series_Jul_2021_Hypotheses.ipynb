{
  "nbformat": 4,
  "nbformat_minor": 0,
  "metadata": {
    "colab": {
      "name": "Tabular Playground Series - Jul 2021 - Hypotheses.ipynb",
      "provenance": [],
      "authorship_tag": "ABX9TyMGGjWfpJRCnN4gY34c9rGf",
      "include_colab_link": true
    },
    "kernelspec": {
      "name": "python3",
      "display_name": "Python 3"
    },
    "language_info": {
      "name": "python"
    }
  },
  "cells": [
    {
      "cell_type": "markdown",
      "metadata": {
        "id": "view-in-github",
        "colab_type": "text"
      },
      "source": [
        "<a href=\"https://colab.research.google.com/github/kan5/Tabular-Playground-Series---Jul-2021/blob/main/Tabular_Playground_Series_Jul_2021_Hypotheses.ipynb\" target=\"_parent\"><img src=\"https://colab.research.google.com/assets/colab-badge.svg\" alt=\"Open In Colab\"/></a>"
      ]
    },
    {
      "cell_type": "markdown",
      "metadata": {
        "id": "NnTD_-4DAZPQ"
      },
      "source": [
        "\n",
        "# **Tabular Playground Series - Jul 2021**\n"
      ]
    },
    {
      "cell_type": "markdown",
      "metadata": {
        "id": "XE_CI8dpBRFO"
      },
      "source": [
        "#### Import"
      ]
    },
    {
      "cell_type": "code",
      "metadata": {
        "id": "Rcbjr8e2BC45"
      },
      "source": [
        "import pandas as pd"
      ],
      "execution_count": 1,
      "outputs": []
    },
    {
      "cell_type": "code",
      "metadata": {
        "colab": {
          "base_uri": "https://localhost:8080/"
        },
        "id": "LfsZRSyMBknW",
        "outputId": "141000df-e5e4-412f-d8e7-f94c8a61e66f"
      },
      "source": [
        "train_df = pd.read_csv('train.csv')\n",
        "train_df.date_time = pd.to_datetime(train_df.date_time)\n",
        "train_df.info()"
      ],
      "execution_count": 8,
      "outputs": [
        {
          "output_type": "stream",
          "text": [
            "<class 'pandas.core.frame.DataFrame'>\n",
            "RangeIndex: 7111 entries, 0 to 7110\n",
            "Data columns (total 12 columns):\n",
            " #   Column                  Non-Null Count  Dtype         \n",
            "---  ------                  --------------  -----         \n",
            " 0   date_time               7111 non-null   datetime64[ns]\n",
            " 1   deg_C                   7111 non-null   float64       \n",
            " 2   relative_humidity       7111 non-null   float64       \n",
            " 3   absolute_humidity       7111 non-null   float64       \n",
            " 4   sensor_1                7111 non-null   float64       \n",
            " 5   sensor_2                7111 non-null   float64       \n",
            " 6   sensor_3                7111 non-null   float64       \n",
            " 7   sensor_4                7111 non-null   float64       \n",
            " 8   sensor_5                7111 non-null   float64       \n",
            " 9   target_carbon_monoxide  7111 non-null   float64       \n",
            " 10  target_benzene          7111 non-null   float64       \n",
            " 11  target_nitrogen_oxides  7111 non-null   float64       \n",
            "dtypes: datetime64[ns](1), float64(11)\n",
            "memory usage: 666.8 KB\n"
          ],
          "name": "stdout"
        }
      ]
    },
    {
      "cell_type": "code",
      "metadata": {
        "colab": {
          "base_uri": "https://localhost:8080/"
        },
        "id": "Gve11fVhB45D",
        "outputId": "f952b6d1-4976-47f3-f138-a4b1b1d98d10"
      },
      "source": [
        "test_df = pd.read_csv('test.csv')\n",
        "test_df.date_time = pd.to_datetime(test_df.date_time)\n",
        "test_df.info()"
      ],
      "execution_count": 9,
      "outputs": [
        {
          "output_type": "stream",
          "text": [
            "<class 'pandas.core.frame.DataFrame'>\n",
            "RangeIndex: 2247 entries, 0 to 2246\n",
            "Data columns (total 9 columns):\n",
            " #   Column             Non-Null Count  Dtype         \n",
            "---  ------             --------------  -----         \n",
            " 0   date_time          2247 non-null   datetime64[ns]\n",
            " 1   deg_C              2247 non-null   float64       \n",
            " 2   relative_humidity  2247 non-null   float64       \n",
            " 3   absolute_humidity  2247 non-null   float64       \n",
            " 4   sensor_1           2247 non-null   float64       \n",
            " 5   sensor_2           2247 non-null   float64       \n",
            " 6   sensor_3           2247 non-null   float64       \n",
            " 7   sensor_4           2247 non-null   float64       \n",
            " 8   sensor_5           2247 non-null   float64       \n",
            "dtypes: datetime64[ns](1), float64(8)\n",
            "memory usage: 158.1 KB\n"
          ],
          "name": "stdout"
        }
      ]
    },
    {
      "cell_type": "code",
      "metadata": {
        "colab": {
          "base_uri": "https://localhost:8080/"
        },
        "id": "1IXbIpfGCZzq",
        "outputId": "59aa4223-f5ea-4df4-e97b-57dcd685021d"
      },
      "source": [
        "submission_example = pd.read_csv('sample_submission.csv')\n",
        "submission_example.date_time = pd.to_datetime(submission_example.date_time)\n",
        "submission_example.info()"
      ],
      "execution_count": 11,
      "outputs": [
        {
          "output_type": "stream",
          "text": [
            "<class 'pandas.core.frame.DataFrame'>\n",
            "RangeIndex: 2247 entries, 0 to 2246\n",
            "Data columns (total 4 columns):\n",
            " #   Column                  Non-Null Count  Dtype         \n",
            "---  ------                  --------------  -----         \n",
            " 0   date_time               2247 non-null   datetime64[ns]\n",
            " 1   target_carbon_monoxide  2247 non-null   float64       \n",
            " 2   target_benzene          2247 non-null   float64       \n",
            " 3   target_nitrogen_oxides  2247 non-null   float64       \n",
            "dtypes: datetime64[ns](1), float64(3)\n",
            "memory usage: 70.3 KB\n"
          ],
          "name": "stdout"
        }
      ]
    },
    {
      "cell_type": "markdown",
      "metadata": {
        "id": "TL-EZmOcC-p_"
      },
      "source": [
        "#### Visual"
      ]
    },
    {
      "cell_type": "code",
      "metadata": {
        "id": "8s9y8dLHDDFI"
      },
      "source": [
        ""
      ],
      "execution_count": null,
      "outputs": []
    }
  ]
}